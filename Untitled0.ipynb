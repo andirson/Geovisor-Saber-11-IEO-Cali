{
  "nbformat": 4,
  "nbformat_minor": 0,
  "metadata": {
    "colab": {
      "name": "Untitled0.ipynb",
      "provenance": [],
      "collapsed_sections": [],
      "authorship_tag": "ABX9TyMTC5iqNqzEj2DWVBoWpJFj",
      "include_colab_link": true
    },
    "kernelspec": {
      "name": "python3",
      "display_name": "Python 3"
    },
    "language_info": {
      "name": "python"
    }
  },
  "cells": [
    {
      "cell_type": "markdown",
      "metadata": {
        "id": "view-in-github",
        "colab_type": "text"
      },
      "source": [
        "<a href=\"https://colab.research.google.com/github/andirson/Geovisor-Saber-11-IEO-Cali/blob/gh-pages/Untitled0.ipynb\" target=\"_parent\"><img src=\"https://colab.research.google.com/assets/colab-badge.svg\" alt=\"Open In Colab\"/></a>"
      ]
    },
    {
      "cell_type": "code",
      "metadata": {
        "id": "o4o4cRdUeJsR"
      },
      "source": [
        "# 1. Metadatos\n",
        "# 2. Importación de librerias\n",
        "# 3. Creación o definición de variables\n",
        "# 4. Creación de funciones y/o procesos\n",
        "# 5. Finalización del codigo"
      ],
      "execution_count": 4,
      "outputs": []
    },
    {
      "cell_type": "code",
      "metadata": {
        "id": "-9smzFNyiwnN"
      },
      "source": [
        "# Tipos de datos numericos\n",
        "a = 3\n",
        "b = 4.2\n",
        "c = a + b\n",
        "\n",
        "print(c)\n",
        "\n",
        "type(b)\n",
        "\n",
        "print(a*b)"
      ],
      "execution_count": null,
      "outputs": []
    },
    {
      "cell_type": "code",
      "metadata": {
        "id": "IAULzQRxkcUf"
      },
      "source": [
        "# Tipos de datos texto\n",
        "a = \"casa\"\n",
        "b = 'mi'\n",
        "d = \"mago, manzana, banano\"\n",
        "\n",
        "print(a + \" \" + b) #Concateno con +\n",
        "\n",
        "print(a*7)\n",
        "\n",
        "print(len(b))\n",
        "\n",
        "print(a + str(b))\n",
        "\n",
        "#Metodos\n",
        "print(a.upper()) #Metodo primero en minuscula\n",
        "print(a.capitalize()) #Metodo primera en mayuscula\n",
        "print(d.split(\",\")) #Separa la lista por coma"
      ],
      "execution_count": null,
      "outputs": []
    },
    {
      "cell_type": "code",
      "metadata": {
        "id": "4ALSsm36nngA"
      },
      "source": [
        "#Listas\n",
        "#Se definen con los corchetes\n",
        "lista = [3, 2, 6, 7, 8]\n",
        "# Posi   0, 1, 2, 3, 4\n",
        "\n",
        "print(lista[3])\n",
        "\n",
        "lista[1] = 45\n",
        "\n",
        "print(lista)\n",
        "print(lista[0:2])\n",
        "\n",
        "#Uso de metodos\n",
        "lista.append(100)\n",
        "print(lista)\n",
        "\n",
        "lista2 = [\"casa\", 43, [2, 3, \"hola\"]]\n",
        "\n",
        "print(lista2[2][1]) #[][] se entra a un elemento en una sublista\n",
        "\n",
        "print(lista2[2].append(23))\n",
        "\n",
        "##En una capa\n",
        "barrios = [[\"Capri\",23,4],[\"Flora\", 45, 5],[\"Caney\", 10, 5]]\n",
        "print(barrios[1][1])\n",
        "\n",
        "nombre = barrios[0][0]\n",
        "area = barrios[0][1]\n",
        "estrato = barrios[0][2]\n",
        "\n",
        "##Formatear una lista\n",
        "print(\"El area de\",nombre,\"es\",area,\"ha\") #Con /b quita el espacio del ha\n",
        "print(\"El area de \" + nombre,\"es \" + str(area) + \" ha\")\n",
        "print(f\"El area de {nombre} es {area} ha\")\n",
        "print(\"El area de {} es {} ha\".format(nombre,area))"
      ],
      "execution_count": null,
      "outputs": []
    }
  ]
}